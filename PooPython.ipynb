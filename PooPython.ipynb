{
 "cells": [
  {
   "cell_type": "code",
   "execution_count": 1,
   "id": "5d59e202",
   "metadata": {},
   "outputs": [],
   "source": [
    "#Create my class\n",
    "class Person:\n",
    "    def __init__(self, name, age):\n",
    "        self.name = name\n",
    "        self.age =age\n",
    "        \n",
    "#Attributes and methods\n",
    "    def greet(self):\n",
    "        print(\"Hello, my name is\", self.name)\n",
    "    \n",
    "\n",
    "#Inheritance\n",
    "class Student(Person):\n",
    "    def __init__(self, name, age, major):\n",
    "        super().__init__(name, age)\n",
    "        self.major = major\n",
    "    \n",
    "    def study(self):\n",
    "        print(self.name, \"is studying\", self.major)\n",
    "        \n",
    "class Teacher(Person):\n",
    "    def __init__(self, name, age, subject):\n",
    "        super().__init__(name, age)\n",
    "        self.subject = subject\n",
    "        \n",
    "    def teach(self):\n",
    "        print(self.name, \"is teaching\", self.subject)"
   ]
  },
  {
   "cell_type": "code",
   "execution_count": null,
   "id": "4102f0aa",
   "metadata": {},
   "outputs": [],
   "source": []
  }
 ],
 "metadata": {
  "kernelspec": {
   "display_name": "Python 3 (ipykernel)",
   "language": "python",
   "name": "python3"
  },
  "language_info": {
   "codemirror_mode": {
    "name": "ipython",
    "version": 3
   },
   "file_extension": ".py",
   "mimetype": "text/x-python",
   "name": "python",
   "nbconvert_exporter": "python",
   "pygments_lexer": "ipython3",
   "version": "3.10.13"
  }
 },
 "nbformat": 4,
 "nbformat_minor": 5
}
